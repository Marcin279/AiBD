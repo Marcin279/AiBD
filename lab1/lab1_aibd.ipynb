{
 "cells": [
  {
   "cell_type": "code",
   "execution_count": 1,
   "metadata": {
    "id": "fh-ZL82k3v1o"
   },
   "outputs": [],
   "source": [
    "import matplotlib.pyplot as plt\n",
    "import numpy as np\n",
    "import pandas as pd"
   ]
  },
  {
   "cell_type": "markdown",
   "metadata": {
    "id": "Xf7qg5wI7kPS"
   },
   "source": [
    "# Marcin Biela, gr 1b AiBD </br>\n",
    "Sporządzanie wykresów funkcji na podstawie 3 zestawów argumentów podanych w skrypcie."
   ]
  },
  {
   "cell_type": "markdown",
   "metadata": {
    "id": "CDm6rrt48Gpa"
   },
   "source": [
    "### Zadanie 3 </br>\n"
   ]
  },
  {
   "cell_type": "markdown",
   "metadata": {},
   "source": [
    "#### Definicja funkcji"
   ]
  },
  {
   "cell_type": "code",
   "execution_count": 2,
   "metadata": {
    "id": "UdShr6ph4NSk"
   },
   "outputs": [],
   "source": [
    "f = lambda x: x**2+5"
   ]
  },
  {
   "cell_type": "code",
   "execution_count": 3,
   "metadata": {
    "id": "Yg2plzsY4Qq7"
   },
   "outputs": [],
   "source": [
    "arg1 = np.linspace(start=-1, stop=1, num=50)\n",
    "arg2 = np.linspace(start=-6, stop=6, num=50)\n",
    "arg3 = np.linspace(start=0, stop=5, num=50)\n",
    "\n",
    "f1 = f(arg1)\n",
    "f2 = f(arg2)\n",
    "f3 = f(arg3)\n",
    "\n",
    "arg_lst = [arg1, arg2, arg3]\n",
    "f_lst = [f1, f2, f3]\n",
    "color_lst = [\"green\", \"blue\", \"red\"]\n",
    "size_lst = [1, 2, 3]\n",
    "marker_lst = ['o', '.', '*']"
   ]
  },
  {
   "cell_type": "code",
   "execution_count": 4,
   "metadata": {
    "colab": {
     "base_uri": "https://localhost:8080/",
     "height": 295
    },
    "id": "Xx6q8Ch14xrN",
    "outputId": "bc593dde-d983-4970-ca77-de15306d4306"
   },
   "outputs": [
    {
     "data": {
      "text/plain": [
       "<matplotlib.legend.Legend at 0x1b6da366040>"
      ]
     },
     "execution_count": 4,
     "metadata": {},
     "output_type": "execute_result"
    },
    {
     "data": {
      "image/png": "[encoded data removed]",
      "text/plain": [
       "<Figure size 432x288 with 1 Axes>"
      ]
     },
     "metadata": {
      "needs_background": "light"
     },
     "output_type": "display_data"
    }
   ],
   "source": [
    "fig = plt.figure()\n",
    "for i in range(len(f_lst)):\n",
    "  plt.plot(arg_lst[i], f_lst[i], color=color_lst[i],\n",
    "           marker=marker_lst[i], label=f\"set {i+1}: ({arg_lst[i][0]}, {arg_lst[i][-1]})\")\n",
    "\n",
    "plt.ylabel(\"y\")\n",
    "plt.xlabel(\"x\")\n",
    "plt.title(\"y = f(x)\")\n",
    "plt.legend()"
   ]
  },
  {
   "cell_type": "markdown",
   "metadata": {
    "id": "V7-L4FUT8Lyt"
   },
   "source": [
    "## Zadanie 4 </br>\n",
    "\n",
    "Tworzenie DataFram'u zawierającego następujące kolumny: imię, nazwisko, wiek, płeć"
   ]
  },
  {
   "cell_type": "code",
   "execution_count": 5,
   "metadata": {
    "colab": {
     "base_uri": "https://localhost:8080/"
    },
    "id": "tvOl8Gt38OL9",
    "outputId": "3ea837ef-bc30-4c42-8731-52685b10a3c2",
    "tags": []
   },
   "outputs": [
    {
     "name": "stdout",
     "output_type": "stream",
     "text": [
      "       name surname  age sex\n",
      "0    Marcin     Pol   11   M\n",
      "1      Sara   Biela   24   K\n",
      "2       Aga  Solorz   34   M\n",
      "3  Krzysiek  Sarata   53   M\n",
      "4     Pawel     Idk   23   K\n"
     ]
    }
   ],
   "source": [
    "d = {'name': [\"Marcin\", \"Sara\", \"Aga\", \"Krzysiek\", \"Pawel\"], \n",
    "     'surname': [\"Pol\", \"Biela\", \"Solorz\", \"Sarata\", \"Idk\"], \n",
    "     \"age\": [11, 24, 34, 53, 23], \n",
    "     'sex': [\"M\", \"K\", \"M\", \"M\", \"K\"]}\n",
    "\n",
    "df = pd.DataFrame(data=d)\n",
    "print(df)"
   ]
  },
  {
   "cell_type": "code",
   "execution_count": 6,
   "metadata": {
    "colab": {
     "base_uri": "https://localhost:8080/"
    },
    "id": "hha6nFyj90xl",
    "outputId": "b5682f3b-b549-4eba-b73f-83e7697d44c9",
    "tags": []
   },
   "outputs": [
    {
     "name": "stdout",
     "output_type": "stream",
     "text": [
      "<class 'pandas.core.frame.DataFrame'>\n",
      "RangeIndex: 5 entries, 0 to 4\n",
      "Data columns (total 4 columns):\n",
      " #   Column   Non-Null Count  Dtype \n",
      "---  ------   --------------  ----- \n",
      " 0   name     5 non-null      object\n",
      " 1   surname  5 non-null      object\n",
      " 2   age      5 non-null      int64 \n",
      " 3   sex      5 non-null      object\n",
      "dtypes: int64(1), object(3)\n",
      "memory usage: 288.0+ bytes\n"
     ]
    }
   ],
   "source": [
    "df.info(verbose=True)"
   ]
  },
  {
   "cell_type": "markdown",
   "metadata": {},
   "source": [
    "Metoda info zwraca informację na temat DataFramu zawiera ona następujące informację: </br></br>\n",
    "- typ danych(dtype)\n",
    "- columny\n",
    "- wartości nie będące nullem(non-null values)\n",
    "- użycie pamięci przez dany DataFrame"
   ]
  },
  {
   "cell_type": "code",
   "execution_count": 7,
   "metadata": {
    "colab": {
     "base_uri": "https://localhost:8080/",
     "height": 300
    },
    "id": "1mwtlHhW-Ax8",
    "outputId": "9bf04656-36ec-4eac-ccb1-1741ad159bd4"
   },
   "outputs": [
    {
     "data": {
      "text/html": [
       "<div>\n",
       "<style scoped>\n",
       "    .dataframe tbody tr th:only-of-type {\n",
       "        vertical-align: middle;\n",
       "    }\n",
       "\n",
       "    .dataframe tbody tr th {\n",
       "        vertical-align: top;\n",
       "    }\n",
       "\n",
       "    .dataframe thead th {\n",
       "        text-align: right;\n",
       "    }\n",
       "</style>\n",
       "<table border=\"1\" class=\"dataframe\">\n",
       "  <thead>\n",
       "    <tr style=\"text-align: right;\">\n",
       "      <th></th>\n",
       "      <th>age</th>\n",
       "    </tr>\n",
       "  </thead>\n",
       "  <tbody>\n",
       "    <tr>\n",
       "      <th>count</th>\n",
       "      <td>5.000000</td>\n",
       "    </tr>\n",
       "    <tr>\n",
       "      <th>mean</th>\n",
       "      <td>29.000000</td>\n",
       "    </tr>\n",
       "    <tr>\n",
       "      <th>std</th>\n",
       "      <td>15.700318</td>\n",
       "    </tr>\n",
       "    <tr>\n",
       "      <th>min</th>\n",
       "      <td>11.000000</td>\n",
       "    </tr>\n",
       "    <tr>\n",
       "      <th>25%</th>\n",
       "      <td>23.000000</td>\n",
       "    </tr>\n",
       "    <tr>\n",
       "      <th>50%</th>\n",
       "      <td>24.000000</td>\n",
       "    </tr>\n",
       "    <tr>\n",
       "      <th>75%</th>\n",
       "      <td>34.000000</td>\n",
       "    </tr>\n",
       "    <tr>\n",
       "      <th>max</th>\n",
       "      <td>53.000000</td>\n",
       "    </tr>\n",
       "  </tbody>\n",
       "</table>\n",
       "</div>"
      ],
      "text/plain": [
       "             age\n",
       "count   5.000000\n",
       "mean   29.000000\n",
       "std    15.700318\n",
       "min    11.000000\n",
       "25%    23.000000\n",
       "50%    24.000000\n",
       "75%    34.000000\n",
       "max    53.000000"
      ]
     },
     "execution_count": 7,
     "metadata": {},
     "output_type": "execute_result"
    }
   ],
   "source": [
    "df.describe()"
   ]
  },
  {
   "cell_type": "markdown",
   "metadata": {},
   "source": [
    "Metoda describe zwraca opsi danego DataFrame'u w postaci następujących parametrów: </br></br>\n",
    "- count - zlicza ilość rekordów niebędących nullem \n",
    "- mean - zwraca śrędnią z wartości będących liczbami (w tym przypadku wieku)\n",
    "- std - przedstawia odchylenie standardowe z wieku poszczególnych osób\n",
    "- min - zwraca minimalną wartość\n",
    "- max - zwraca maksymalną wartość\n",
    "- 25% - kwantyl rzędu 0.25 czyli 1 kwartyl\n",
    "- 50% - kwantyl rzędu 0.5 czyli mediana\n",
    "- 75% - kwantyl rzędu 0.75 czyli 3 kwartyl"
   ]
  },
  {
   "cell_type": "code",
   "execution_count": 8,
   "metadata": {
    "colab": {
     "base_uri": "https://localhost:8080/",
     "height": 206
    },
    "id": "KZWINVNj-G4C",
    "outputId": "6ef6b660-bac1-45f6-e4af-fef544089478"
   },
   "outputs": [
    {
     "data": {
      "text/html": [
       "<div>\n",
       "<style scoped>\n",
       "    .dataframe tbody tr th:only-of-type {\n",
       "        vertical-align: middle;\n",
       "    }\n",
       "\n",
       "    .dataframe tbody tr th {\n",
       "        vertical-align: top;\n",
       "    }\n",
       "\n",
       "    .dataframe thead th {\n",
       "        text-align: right;\n",
       "    }\n",
       "</style>\n",
       "<table border=\"1\" class=\"dataframe\">\n",
       "  <thead>\n",
       "    <tr style=\"text-align: right;\">\n",
       "      <th></th>\n",
       "      <th>name</th>\n",
       "      <th>surname</th>\n",
       "      <th>age</th>\n",
       "      <th>sex</th>\n",
       "    </tr>\n",
       "  </thead>\n",
       "  <tbody>\n",
       "    <tr>\n",
       "      <th>0</th>\n",
       "      <td>Marcin</td>\n",
       "      <td>Pol</td>\n",
       "      <td>11</td>\n",
       "      <td>M</td>\n",
       "    </tr>\n",
       "    <tr>\n",
       "      <th>1</th>\n",
       "      <td>Sara</td>\n",
       "      <td>Biela</td>\n",
       "      <td>24</td>\n",
       "      <td>K</td>\n",
       "    </tr>\n",
       "    <tr>\n",
       "      <th>2</th>\n",
       "      <td>Aga</td>\n",
       "      <td>Solorz</td>\n",
       "      <td>34</td>\n",
       "      <td>M</td>\n",
       "    </tr>\n",
       "  </tbody>\n",
       "</table>\n",
       "</div>"
      ],
      "text/plain": [
       "     name surname  age sex\n",
       "0  Marcin     Pol   11   M\n",
       "1    Sara   Biela   24   K\n",
       "2     Aga  Solorz   34   M"
      ]
     },
     "execution_count": 8,
     "metadata": {},
     "output_type": "execute_result"
    }
   ],
   "source": [
    "df.head(3)"
   ]
  },
  {
   "cell_type": "markdown",
   "metadata": {},
   "source": [
    "Metoda head przyjmuje jako argument liczę naturalną n oznaczająca liczbe rekordów, jej wywołania na DataFrame'ie powoduje wyświetlenie n rekordów."
   ]
  },
  {
   "cell_type": "code",
   "execution_count": null,
   "metadata": {},
   "outputs": [],
   "source": []
  }
 ],
 "metadata": {
  "colab": {
   "name": "lab1_aibd.ipynb",
   "provenance": []
  },
  "kernelspec": {
   "display_name": "Python 3",
   "language": "python",
   "name": "python3"
  },
  "language_info": {
   "codemirror_mode": {
    "name": "ipython",
    "version": 3
   },
   "file_extension": ".py",
   "mimetype": "text/x-python",
   "name": "python",
   "nbconvert_exporter": "python",
   "pygments_lexer": "ipython3",
   "version": "3.8.5"
  }
 },
 "nbformat": 4,
 "nbformat_minor": 1
}
