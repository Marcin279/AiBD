{
 "cells": [
  {
   "cell_type": "code",
   "execution_count": 2,
   "metadata": {},
   "outputs": [],
   "source": [
    "import pandas as pd"
   ]
  },
  {
   "cell_type": "code",
   "execution_count": 4,
   "metadata": {},
   "outputs": [],
   "source": [
    "data = pd.read_csv(\"weather1.txt\")"
   ]
  },
  {
   "cell_type": "code",
   "execution_count": 10,
   "metadata": {},
   "outputs": [
    {
     "data": {
      "text/plain": [
       "pandas.core.frame.DataFrame"
      ]
     },
     "execution_count": 10,
     "metadata": {},
     "output_type": "execute_result"
    }
   ],
   "source": [
    "type(data)"
   ]
  },
  {
   "cell_type": "code",
   "execution_count": 19,
   "metadata": {},
   "outputs": [
    {
     "data": {
      "text/html": [
       "<div>\n",
       "<style scoped>\n",
       "    .dataframe tbody tr th:only-of-type {\n",
       "        vertical-align: middle;\n",
       "    }\n",
       "\n",
       "    .dataframe tbody tr th {\n",
       "        vertical-align: top;\n",
       "    }\n",
       "\n",
       "    .dataframe thead th {\n",
       "        text-align: right;\n",
       "    }\n",
       "</style>\n",
       "<table border=\"1\" class=\"dataframe\">\n",
       "  <thead>\n",
       "    <tr style=\"text-align: right;\">\n",
       "      <th></th>\n",
       "      <th>MX000017004195504TMAX  310  I  310  I  310  I  320  I  330  I  320  I  320  I  330  I  330  I  330  I  330  I  320  I  310  I  310  I  320  I  320  I  320  I  310  I  310  I  320  I  320  I  330  I  330  I  330  I  330  I  330  I  330  I  340  I  330  I  320  I-9999</th>\n",
       "    </tr>\n",
       "  </thead>\n",
       "  <tbody>\n",
       "    <tr>\n",
       "      <th>0</th>\n",
       "      <td>MX000017004195504TMIN  150  I  150  I  160  I ...</td>\n",
       "    </tr>\n",
       "    <tr>\n",
       "      <th>1</th>\n",
       "      <td>MX000017004195504PRCP    0  I    0  I    0  I ...</td>\n",
       "    </tr>\n",
       "    <tr>\n",
       "      <th>2</th>\n",
       "      <td>MX000017004195505TMAX  310  I  310  I  310  I ...</td>\n",
       "    </tr>\n",
       "    <tr>\n",
       "      <th>3</th>\n",
       "      <td>MX000017004195505TMIN  200  I  160  I  160  I ...</td>\n",
       "    </tr>\n",
       "    <tr>\n",
       "      <th>4</th>\n",
       "      <td>MX000017004195505PRCP    0  I    0  I    0  I ...</td>\n",
       "    </tr>\n",
       "    <tr>\n",
       "      <th>...</th>\n",
       "      <td>...</td>\n",
       "    </tr>\n",
       "    <tr>\n",
       "      <th>1708</th>\n",
       "      <td>MX000017004201103TMIN-9999   -9999   -9999   -...</td>\n",
       "    </tr>\n",
       "    <tr>\n",
       "      <th>1709</th>\n",
       "      <td>MX000017004201103PRCP    0  S-9999       0  S ...</td>\n",
       "    </tr>\n",
       "    <tr>\n",
       "      <th>1710</th>\n",
       "      <td>MX000017004201104TMAX-9999     350  S-9999   -...</td>\n",
       "    </tr>\n",
       "    <tr>\n",
       "      <th>1711</th>\n",
       "      <td>MX000017004201104TMIN-9999     168  S-9999   -...</td>\n",
       "    </tr>\n",
       "    <tr>\n",
       "      <th>1712</th>\n",
       "      <td>MX000017004201104PRCP    0  S    0  S-9999   -...</td>\n",
       "    </tr>\n",
       "  </tbody>\n",
       "</table>\n",
       "<p>1713 rows × 1 columns</p>\n",
       "</div>"
      ],
      "text/plain": [
       "     MX000017004195504TMAX  310  I  310  I  310  I  320  I  330  I  320  I  320  I  330  I  330  I  330  I  330  I  320  I  310  I  310  I  320  I  320  I  320  I  310  I  310  I  320  I  320  I  330  I  330  I  330  I  330  I  330  I  330  I  340  I  330  I  320  I-9999   \n",
       "0     MX000017004195504TMIN  150  I  150  I  160  I ...                                                                                                                                                                                                                           \n",
       "1     MX000017004195504PRCP    0  I    0  I    0  I ...                                                                                                                                                                                                                           \n",
       "2     MX000017004195505TMAX  310  I  310  I  310  I ...                                                                                                                                                                                                                           \n",
       "3     MX000017004195505TMIN  200  I  160  I  160  I ...                                                                                                                                                                                                                           \n",
       "4     MX000017004195505PRCP    0  I    0  I    0  I ...                                                                                                                                                                                                                           \n",
       "...                                                 ...                                                                                                                                                                                                                           \n",
       "1708  MX000017004201103TMIN-9999   -9999   -9999   -...                                                                                                                                                                                                                           \n",
       "1709  MX000017004201103PRCP    0  S-9999       0  S ...                                                                                                                                                                                                                           \n",
       "1710  MX000017004201104TMAX-9999     350  S-9999   -...                                                                                                                                                                                                                           \n",
       "1711  MX000017004201104TMIN-9999     168  S-9999   -...                                                                                                                                                                                                                           \n",
       "1712  MX000017004201104PRCP    0  S    0  S-9999   -...                                                                                                                                                                                                                           \n",
       "\n",
       "[1713 rows x 1 columns]"
      ]
     },
     "execution_count": 19,
     "metadata": {},
     "output_type": "execute_result"
    }
   ],
   "source": [
    "data"
   ]
  },
  {
   "cell_type": "code",
   "execution_count": 58,
   "metadata": {},
   "outputs": [
    {
     "name": "stdout",
     "output_type": "stream",
     "text": [
      "MX000017004201001TMAX-9999\n",
      "MX000017004201001TMIN-9999\n",
      "MX000017004201001PRCP-9999\n",
      "MX000017004201002TMAX-9999\n",
      "MX000017004201002TMIN-9999\n",
      "MX000017004201002PRCP-9999\n",
      "MX000017004201003TMAX-9999\n",
      "MX000017004201003TMIN-9999\n",
      "MX000017004201003PRCP-9999\n",
      "MX000017004201004TMAX-9999\n",
      "MX000017004201004TMIN-9999\n",
      "MX000017004201004PRCP\n",
      "MX000017004201005TMAX-9999\n",
      "MX000017004201005TMIN-9999\n",
      "MX000017004201005PRCP-9999\n"
     ]
    }
   ],
   "source": [
    "dct_to_return = {}\n",
    "for r in data.iterrows():\n",
    "    # print(type(r[1]))\n",
    "    line = r[1][0]\n",
    "    split_line = line.split()\n",
    "    # print(split_line)\n",
    "    to_return = split_line[0][11:17]\n",
    "    # print(type(to_return))\n",
    "    \n",
    "    if to_return == \"201001\" or to_return == \"201002\" or to_return == \"201003\" or to_return == \"201004\" or to_return == \"201005\":\n",
    "        # print(split_line[0])\n",
    "        if split_line[0][:len(split_line[0])-5] == \"-9999\":\n",
    "            id_ = split_line[0][:len(split_line[0])-5]\n",
    "        else:\n",
    "            id_ = split_line[0]\n",
    "        print(id_)\n",
    "        dct_to_return[id_] = split_line[1:]\n",
    "        # print(split_line)\n",
    "\n",
    "# print(dct_to_return)\n",
    "\n",
    "# for k, v in dct_to_return.items():\n",
    "#     print(f\"{k}: {v}\")\n",
    "\n",
    "# df = pd.DataFrame(dct_to_return)\n",
    "        \n"
   ]
  },
  {
   "cell_type": "code",
   "execution_count": 23,
   "metadata": {},
   "outputs": [
    {
     "data": {
      "text/plain": [
       "<generator object DataFrame.iterrows at 0x7f079932fb30>"
      ]
     },
     "execution_count": 23,
     "metadata": {},
     "output_type": "execute_result"
    }
   ],
   "source": []
  }
 ],
 "metadata": {
  "interpreter": {
   "hash": "4e39b2e4977898e1272ea11ab7e869be153b4994c316319a6d1fb426ac812016"
  },
  "kernelspec": {
   "display_name": "Python 3.8.8 64-bit ('marcinbiela': conda)",
   "name": "python3"
  },
  "language_info": {
   "codemirror_mode": {
    "name": "ipython",
    "version": 3
   },
   "file_extension": ".py",
   "mimetype": "text/x-python",
   "name": "python",
   "nbconvert_exporter": "python",
   "pygments_lexer": "ipython3",
   "version": "3.8.8"
  },
  "orig_nbformat": 4
 },
 "nbformat": 4,
 "nbformat_minor": 2
}
