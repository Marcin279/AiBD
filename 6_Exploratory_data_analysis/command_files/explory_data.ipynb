{
 "cells": [
  {
   "cell_type": "code",
   "execution_count": 27,
   "metadata": {},
   "outputs": [
    {
     "name": "stdout",
     "output_type": "stream",
     "text": [
      "11\n"
     ]
    }
   ],
   "source": [
    "# Potrzebne importy\n",
    "import pandas as pd\n",
    "import os\n",
    "import re\n",
    "import numpy as np\n",
    "\n",
    "# wybor_data_setu\n",
    "imie = \"Marcin\"\n",
    "nazwisko = \"Biela\"\n",
    "\n",
    "data_set_nr = (len(imie) + len(nazwisko)) % 16\n",
    "\n",
    "print(data_set_nr)"
   ]
  },
  {
   "cell_type": "code",
   "execution_count": 28,
   "metadata": {},
   "outputs": [
    {
     "name": "stdout",
     "output_type": "stream",
     "text": [
      "/home/mbiela/Documents/AiBD/laboratorium-6-Marcin279/original_data/11_SLA.csv\n"
     ]
    }
   ],
   "source": [
    "# odczytuje scieżke do oryginalnego pliku w celu wczytania datasetu\n",
    "original_data_path = os.getcwd()[:-13] + \"original_data/11_SLA.csv\"\n",
    "print(original_data_path)"
   ]
  },
  {
   "cell_type": "code",
   "execution_count": 29,
   "metadata": {},
   "outputs": [
    {
     "data": {
      "text/html": [
       "<div>\n",
       "<style scoped>\n",
       "    .dataframe tbody tr th:only-of-type {\n",
       "        vertical-align: middle;\n",
       "    }\n",
       "\n",
       "    .dataframe tbody tr th {\n",
       "        vertical-align: top;\n",
       "    }\n",
       "\n",
       "    .dataframe thead th {\n",
       "        text-align: right;\n",
       "    }\n",
       "</style>\n",
       "<table border=\"1\" class=\"dataframe\">\n",
       "  <thead>\n",
       "    <tr style=\"text-align: right;\">\n",
       "      <th></th>\n",
       "      <th>Dni od zakupu</th>\n",
       "      <th>Marka</th>\n",
       "      <th>Wiek kupującego</th>\n",
       "      <th>Płeć kupującego</th>\n",
       "      <th>Ocena</th>\n",
       "    </tr>\n",
       "  </thead>\n",
       "  <tbody>\n",
       "    <tr>\n",
       "      <th>0</th>\n",
       "      <td>10</td>\n",
       "      <td>Beko</td>\n",
       "      <td>33.0</td>\n",
       "      <td>M</td>\n",
       "      <td>1.5</td>\n",
       "    </tr>\n",
       "    <tr>\n",
       "      <th>1</th>\n",
       "      <td>3</td>\n",
       "      <td>Tefal</td>\n",
       "      <td>NaN</td>\n",
       "      <td>M</td>\n",
       "      <td>3.5</td>\n",
       "    </tr>\n",
       "    <tr>\n",
       "      <th>2</th>\n",
       "      <td>9</td>\n",
       "      <td>Samsung</td>\n",
       "      <td>44.0</td>\n",
       "      <td>M</td>\n",
       "      <td>2.5</td>\n",
       "    </tr>\n",
       "    <tr>\n",
       "      <th>3</th>\n",
       "      <td>5</td>\n",
       "      <td>Samsung</td>\n",
       "      <td>40.0</td>\n",
       "      <td>M</td>\n",
       "      <td>0.5</td>\n",
       "    </tr>\n",
       "    <tr>\n",
       "      <th>4</th>\n",
       "      <td>2</td>\n",
       "      <td>Samsung</td>\n",
       "      <td>48.0</td>\n",
       "      <td>M</td>\n",
       "      <td>3.0</td>\n",
       "    </tr>\n",
       "    <tr>\n",
       "      <th>...</th>\n",
       "      <td>...</td>\n",
       "      <td>...</td>\n",
       "      <td>...</td>\n",
       "      <td>...</td>\n",
       "      <td>...</td>\n",
       "    </tr>\n",
       "    <tr>\n",
       "      <th>448</th>\n",
       "      <td>6</td>\n",
       "      <td>Beko</td>\n",
       "      <td>40.0</td>\n",
       "      <td>M</td>\n",
       "      <td>2.0</td>\n",
       "    </tr>\n",
       "    <tr>\n",
       "      <th>449</th>\n",
       "      <td>3</td>\n",
       "      <td>Tefal</td>\n",
       "      <td>37.0</td>\n",
       "      <td>M</td>\n",
       "      <td>0.5</td>\n",
       "    </tr>\n",
       "    <tr>\n",
       "      <th>450</th>\n",
       "      <td>4</td>\n",
       "      <td>Dyson</td>\n",
       "      <td>41.0</td>\n",
       "      <td>M</td>\n",
       "      <td>3.0</td>\n",
       "    </tr>\n",
       "    <tr>\n",
       "      <th>451</th>\n",
       "      <td>4</td>\n",
       "      <td>Tefal</td>\n",
       "      <td>27.0</td>\n",
       "      <td>M</td>\n",
       "      <td>1.5</td>\n",
       "    </tr>\n",
       "    <tr>\n",
       "      <th>452</th>\n",
       "      <td>10</td>\n",
       "      <td>Electrolux</td>\n",
       "      <td>45.0</td>\n",
       "      <td>M</td>\n",
       "      <td>2.5</td>\n",
       "    </tr>\n",
       "  </tbody>\n",
       "</table>\n",
       "<p>453 rows × 5 columns</p>\n",
       "</div>"
      ],
      "text/plain": [
       "     Dni od zakupu       Marka  Wiek kupującego Płeć kupującego  Ocena\n",
       "0               10        Beko             33.0               M    1.5\n",
       "1                3       Tefal              NaN               M    3.5\n",
       "2                9     Samsung             44.0               M    2.5\n",
       "3                5     Samsung             40.0               M    0.5\n",
       "4                2     Samsung             48.0               M    3.0\n",
       "..             ...         ...              ...             ...    ...\n",
       "448              6        Beko             40.0               M    2.0\n",
       "449              3       Tefal             37.0               M    0.5\n",
       "450              4       Dyson             41.0               M    3.0\n",
       "451              4       Tefal             27.0               M    1.5\n",
       "452             10  Electrolux             45.0               M    2.5\n",
       "\n",
       "[453 rows x 5 columns]"
      ]
     },
     "execution_count": 29,
     "metadata": {},
     "output_type": "execute_result"
    }
   ],
   "source": [
    "# Wczytywanie datasetu\n",
    "df = pd.read_csv(original_data_path, index_col=0)\n",
    "df"
   ]
  },
  {
   "cell_type": "code",
   "execution_count": 30,
   "metadata": {},
   "outputs": [
    {
     "data": {
      "text/plain": [
       "Dni od zakupu         3\n",
       "Marka              Beko\n",
       "Wiek kupującego    49.0\n",
       "Płeć kupującego     NaN\n",
       "Ocena               3.0\n",
       "Name: 380, dtype: object"
      ]
     },
     "execution_count": 30,
     "metadata": {},
     "output_type": "execute_result"
    }
   ],
   "source": [
    "df['Płeć kupującego'] = df['Płeć kupującego'].map({'K':'K', 'M':'M', 'b.d.':np.nan})\n",
    "df.loc[380, :]"
   ]
  },
  {
   "cell_type": "code",
   "execution_count": 31,
   "metadata": {},
   "outputs": [
    {
     "name": "stdout",
     "output_type": "stream",
     "text": [
      "/home/mbiela/Documents/AiBD/laboratorium-6-Marcin279/analysis_data/analisys_data.csv\n"
     ]
    }
   ],
   "source": [
    "# save to csv\n",
    "analisys_data_file_path = os.getcwd()[:-13] + \"analysis_data/analisys_data.csv\"\n",
    "print(analisys_data_file_path)\n",
    "\n",
    "df.to_csv(analisys_data_file_path)"
   ]
  }
 ],
 "metadata": {
  "interpreter": {
   "hash": "c0eca720cca3c6db66ea12da1b6cb70f028cfa28489bba216c65a752bc039ce0"
  },
  "kernelspec": {
   "display_name": "Python 3.7.6 64-bit ('base': conda)",
   "name": "python3"
  },
  "language_info": {
   "codemirror_mode": {
    "name": "ipython",
    "version": 3
   },
   "file_extension": ".py",
   "mimetype": "text/x-python",
   "name": "python",
   "nbconvert_exporter": "python",
   "pygments_lexer": "ipython3",
   "version": "3.7.6"
  },
  "orig_nbformat": 4
 },
 "nbformat": 4,
 "nbformat_minor": 2
}
